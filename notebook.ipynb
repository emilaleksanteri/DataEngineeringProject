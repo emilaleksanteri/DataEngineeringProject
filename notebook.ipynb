{
 "cells": [
  {
   "cell_type": "code",
   "execution_count": 2,
   "metadata": {},
   "outputs": [],
   "source": [
    "import pandas as pd\n",
    "import numpy as np \n",
    "from matplotlib import pyplot as plt "
   ]
  },
  {
   "cell_type": "code",
   "execution_count": 3,
   "metadata": {},
   "outputs": [
    {
     "name": "stdout",
     "output_type": "stream",
     "text": [
      "  avg_gross;\"experience\"\n",
      "0  114097139.4021;9.8176\n"
     ]
    }
   ],
   "source": [
    "# actor dataframes\n",
    "dfAvgGrossAboveAvgExperienceActor = pd.read_csv(\"data/vw_avg_gross_above_avg_experience_actor.csv\", sep=';')\n",
    "dfAvgGrossBelowAvgExperienceActor = pd.read_csv(\"data/vw_avg_gross_below_avg_experience_actor.csv\", sep=';')\n",
    "dfAvgGrossExperienceActor = pd.read_csv(\"data/vw_avg_gross_experience_actor.csv\", sep=';')\n",
    "dfAvgRatingAboveAvgExperienceActor = pd.read_csv(\"data/vw_avg_rating_above_avg_experience_actor.csv\", sep=';')\n",
    "dfAvgRatingBelowAvgExperienceActor = pd.read_csv(\"data/vw_avg_rating_below_avg_experience_actor.csv\", sep=';')\n",
    "dfAvgRatingExperienceActor = pd.read_csv(\"data/vw_avg_rating_experience_actor.csv\", sep=';')\n",
    "\n",
    "# director dataframes\n",
    "dfAvgGrossAboveAvgExperienceDirector = pd.read_csv(\"data/vw_avg_gross_above_avg_experience_director.csv\", sep=';')\n",
    "dfAvgGrossBelowAvgExperienceDirector = pd.read_csv(\"data/vw_avg_gross_below_avg_experience_director.csv\", sep=';')\n",
    "dfAvgGrossExperienceDirector = pd.read_csv(\"data/vw_avg_gross_experience_director.csv\", sep=';')\n",
    "dfAvgRatingAboveAvgExperienceDirector = pd.read_csv(\"data/vw_avg_rating_above_avg_experience_director.csv\", sep=';')\n",
    "dfAvgRatingBelowAvgExperienceDirector = pd.read_csv(\"data/vw_avg_rating_below_avg_experience_director.csv\", sep=';')\n",
    "dfAvgRatingExperienceDirector = pd.read_csv(\"data/vw_avg_rating_experience_director.csv\", sep=';')\n",
    "\n",
    "print(dfAvgGrossAboveAvgExperienceActor.head())"
   ]
  }
 ],
 "metadata": {
  "kernelspec": {
   "display_name": ".venv",
   "language": "python",
   "name": "python3"
  },
  "language_info": {
   "codemirror_mode": {
    "name": "ipython",
    "version": 3
   },
   "file_extension": ".py",
   "mimetype": "text/x-python",
   "name": "python",
   "nbconvert_exporter": "python",
   "pygments_lexer": "ipython3",
   "version": "3.10.5"
  },
  "orig_nbformat": 4
 },
 "nbformat": 4,
 "nbformat_minor": 2
}
